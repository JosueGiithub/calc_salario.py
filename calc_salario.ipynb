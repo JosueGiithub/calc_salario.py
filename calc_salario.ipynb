{
  "nbformat": 4,
  "nbformat_minor": 0,
  "metadata": {
    "colab": {
      "provenance": [],
      "authorship_tag": "ABX9TyPQUUYzz/RtegyJ4tFdYzTZ",
      "include_colab_link": true
    },
    "kernelspec": {
      "name": "python3",
      "display_name": "Python 3"
    },
    "language_info": {
      "name": "python"
    }
  },
  "cells": [
    {
      "cell_type": "markdown",
      "metadata": {
        "id": "view-in-github",
        "colab_type": "text"
      },
      "source": [
        "<a href=\"https://colab.research.google.com/github/JosueGiithub/calc_salario.py/blob/main/calc_salario.ipynb\" target=\"_parent\"><img src=\"https://colab.research.google.com/assets/colab-badge.svg\" alt=\"Open In Colab\"/></a>"
      ]
    },
    {
      "cell_type": "code",
      "execution_count": null,
      "metadata": {
        "id": "4qaWm-EXrmuH"
      },
      "outputs": [],
      "source": [
        "salário = float(input(\"Digite o valor do salário mínimo atual: \"))\n",
        "valor = salário\n",
        "juros = salário * 4/100\n",
        "aumento = salário + (salário * 4/100)\n",
        "print(\"O seu salário era de\",valor,\"A partir de agora, com o acréscimo de 4%, o seu salário atual é de:\",aumento, \n",
        "      \"A seguir o calculo feito do seu antigo salário: \",valor,\"com o aumento de 4%\",juros, \"resultou\",aumento)"
      ]
    }
  ]
}